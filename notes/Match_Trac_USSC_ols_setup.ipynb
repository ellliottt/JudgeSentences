{
 "cells": [
  {
   "cell_type": "code",
   "execution_count": 1,
   "metadata": {
    "collapsed": true
   },
   "outputs": [],
   "source": [
    "import pickle \n",
    "import pprint as pp\n",
    "import pandas as pd\n",
    "import numpy as np\n",
    "from sklearn import linear_model\n",
    "from sklearn import svm\n",
    "import matplotlib.pyplot as plt"
   ]
  },
  {
   "cell_type": "code",
   "execution_count": 1,
   "metadata": {
    "collapsed": true
   },
   "outputs": [],
   "source": [
    "#This program loads the train and test data sets and runs the baseline OLS regression and runs out of sample testing"
   ]
  },
  {
   "cell_type": "code",
   "execution_count": 5,
   "metadata": {
    "collapsed": false
   },
   "outputs": [],
   "source": [
    "#Load Test and Train Data\n",
    "train = pd.read_csv('../rawdata/Trac_USSC_train.csv', index_col = 0)\n",
    "test = pd.read_csv('../rawdata/Trac_USSC_test.csv', index_col = 0)"
   ]
  },
  {
   "cell_type": "code",
   "execution_count": 24,
   "metadata": {
    "collapsed": false
   },
   "outputs": [
    {
     "data": {
      "text/html": [
       "<div>\n",
       "<table border=\"1\" class=\"dataframe\">\n",
       "  <thead>\n",
       "    <tr style=\"text-align: right;\">\n",
       "      <th></th>\n",
       "      <th>trial</th>\n",
       "      <th>songername</th>\n",
       "      <th>gender</th>\n",
       "      <th>party</th>\n",
       "      <th>demean_logprisonsentmonths</th>\n",
       "      <th>year1</th>\n",
       "      <th>year2</th>\n",
       "      <th>year3</th>\n",
       "      <th>year4</th>\n",
       "      <th>year5</th>\n",
       "      <th>...</th>\n",
       "      <th>judge_race2</th>\n",
       "      <th>judge_race3</th>\n",
       "      <th>judge_race4</th>\n",
       "      <th>judge_race5</th>\n",
       "      <th>judge_party1</th>\n",
       "      <th>judge_party2</th>\n",
       "      <th>judge_party3</th>\n",
       "      <th>judge_party4</th>\n",
       "      <th>judge_party5</th>\n",
       "      <th>age</th>\n",
       "    </tr>\n",
       "  </thead>\n",
       "  <tbody>\n",
       "    <tr>\n",
       "      <th>535532</th>\n",
       "      <td>0</td>\n",
       "      <td>TEILBORG, JAMES A.</td>\n",
       "      <td>1</td>\n",
       "      <td>0</td>\n",
       "      <td>0.270307</td>\n",
       "      <td>0</td>\n",
       "      <td>0</td>\n",
       "      <td>0</td>\n",
       "      <td>0</td>\n",
       "      <td>0</td>\n",
       "      <td>...</td>\n",
       "      <td>0</td>\n",
       "      <td>0</td>\n",
       "      <td>0</td>\n",
       "      <td>0</td>\n",
       "      <td>1</td>\n",
       "      <td>0</td>\n",
       "      <td>0</td>\n",
       "      <td>0</td>\n",
       "      <td>0</td>\n",
       "      <td>68.0</td>\n",
       "    </tr>\n",
       "    <tr>\n",
       "      <th>652720</th>\n",
       "      <td>0</td>\n",
       "      <td>WHALEY, ROBERT H.</td>\n",
       "      <td>1</td>\n",
       "      <td>1</td>\n",
       "      <td>0.112248</td>\n",
       "      <td>0</td>\n",
       "      <td>0</td>\n",
       "      <td>0</td>\n",
       "      <td>0</td>\n",
       "      <td>0</td>\n",
       "      <td>...</td>\n",
       "      <td>0</td>\n",
       "      <td>0</td>\n",
       "      <td>0</td>\n",
       "      <td>0</td>\n",
       "      <td>0</td>\n",
       "      <td>1</td>\n",
       "      <td>0</td>\n",
       "      <td>0</td>\n",
       "      <td>0</td>\n",
       "      <td>57.0</td>\n",
       "    </tr>\n",
       "    <tr>\n",
       "      <th>442930</th>\n",
       "      <td>0</td>\n",
       "      <td>REASONER, STEPHEN M.</td>\n",
       "      <td>1</td>\n",
       "      <td>0</td>\n",
       "      <td>1.876450</td>\n",
       "      <td>0</td>\n",
       "      <td>0</td>\n",
       "      <td>0</td>\n",
       "      <td>0</td>\n",
       "      <td>0</td>\n",
       "      <td>...</td>\n",
       "      <td>0</td>\n",
       "      <td>0</td>\n",
       "      <td>0</td>\n",
       "      <td>0</td>\n",
       "      <td>1</td>\n",
       "      <td>0</td>\n",
       "      <td>0</td>\n",
       "      <td>0</td>\n",
       "      <td>0</td>\n",
       "      <td>57.0</td>\n",
       "    </tr>\n",
       "    <tr>\n",
       "      <th>365546</th>\n",
       "      <td>1</td>\n",
       "      <td>ROSEN, GERALD ELLIS</td>\n",
       "      <td>1</td>\n",
       "      <td>0</td>\n",
       "      <td>2.383566</td>\n",
       "      <td>0</td>\n",
       "      <td>0</td>\n",
       "      <td>0</td>\n",
       "      <td>0</td>\n",
       "      <td>0</td>\n",
       "      <td>...</td>\n",
       "      <td>0</td>\n",
       "      <td>0</td>\n",
       "      <td>0</td>\n",
       "      <td>0</td>\n",
       "      <td>1</td>\n",
       "      <td>0</td>\n",
       "      <td>0</td>\n",
       "      <td>0</td>\n",
       "      <td>0</td>\n",
       "      <td>54.0</td>\n",
       "    </tr>\n",
       "    <tr>\n",
       "      <th>36416</th>\n",
       "      <td>0</td>\n",
       "      <td>DEARIE, RAYMOND J.</td>\n",
       "      <td>1</td>\n",
       "      <td>0</td>\n",
       "      <td>-0.180349</td>\n",
       "      <td>0</td>\n",
       "      <td>0</td>\n",
       "      <td>0</td>\n",
       "      <td>0</td>\n",
       "      <td>0</td>\n",
       "      <td>...</td>\n",
       "      <td>0</td>\n",
       "      <td>0</td>\n",
       "      <td>0</td>\n",
       "      <td>0</td>\n",
       "      <td>1</td>\n",
       "      <td>0</td>\n",
       "      <td>0</td>\n",
       "      <td>0</td>\n",
       "      <td>0</td>\n",
       "      <td>55.0</td>\n",
       "    </tr>\n",
       "  </tbody>\n",
       "</table>\n",
       "<p>5 rows × 87 columns</p>\n",
       "</div>"
      ],
      "text/plain": [
       "        trial            songername  gender  party  \\\n",
       "535532      0    TEILBORG, JAMES A.       1      0   \n",
       "652720      0     WHALEY, ROBERT H.       1      1   \n",
       "442930      0  REASONER, STEPHEN M.       1      0   \n",
       "365546      1   ROSEN, GERALD ELLIS       1      0   \n",
       "36416       0    DEARIE, RAYMOND J.       1      0   \n",
       "\n",
       "        demean_logprisonsentmonths  year1  year2  year3  year4  year5  ...   \\\n",
       "535532                    0.270307      0      0      0      0      0  ...    \n",
       "652720                    0.112248      0      0      0      0      0  ...    \n",
       "442930                    1.876450      0      0      0      0      0  ...    \n",
       "365546                    2.383566      0      0      0      0      0  ...    \n",
       "36416                    -0.180349      0      0      0      0      0  ...    \n",
       "\n",
       "        judge_race2  judge_race3  judge_race4  judge_race5  judge_party1  \\\n",
       "535532            0            0            0            0             1   \n",
       "652720            0            0            0            0             0   \n",
       "442930            0            0            0            0             1   \n",
       "365546            0            0            0            0             1   \n",
       "36416             0            0            0            0             1   \n",
       "\n",
       "        judge_party2  judge_party3  judge_party4  judge_party5   age  \n",
       "535532             0             0             0             0  68.0  \n",
       "652720             1             0             0             0  57.0  \n",
       "442930             0             0             0             0  57.0  \n",
       "365546             0             0             0             0  54.0  \n",
       "36416              0             0             0             0  55.0  \n",
       "\n",
       "[5 rows x 87 columns]"
      ]
     },
     "execution_count": 24,
     "metadata": {},
     "output_type": "execute_result"
    }
   ],
   "source": [
    "train.head()"
   ]
  },
  {
   "cell_type": "code",
   "execution_count": 20,
   "metadata": {
    "collapsed": true
   },
   "outputs": [],
   "source": [
    "drops = ['songername', 'demean_logprisonsentmonths', 'judge_religion3', 'judge_rating3', 'judge_party1']\n",
    "for i in range(36):\n",
    "    drops.append('year' + str(i+1))\n",
    "for i in range(5):\n",
    "    drops.append('judge_race' + str(i+1))"
   ]
  },
  {
   "cell_type": "code",
   "execution_count": 21,
   "metadata": {
    "collapsed": false
   },
   "outputs": [],
   "source": [
    "X_train = train.drop(drops, axis = 1)\n",
    "X_train['intercept'] = 1\n",
    "Y_train = np.array(train['demean_logprisonsentmonths'], dtype=np.float32)\n",
    "X_test = test.drop(drops, axis = 1)\n",
    "X_test['intercept'] = 1\n",
    "Y_test = np.array(test['demean_logprisonsentmonths'], dtype=np.float32)"
   ]
  },
  {
   "cell_type": "code",
   "execution_count": 22,
   "metadata": {
    "collapsed": true
   },
   "outputs": [],
   "source": [
    "## base line on Trac_USSC datasets"
   ]
  },
  {
   "cell_type": "code",
   "execution_count": 23,
   "metadata": {
    "collapsed": false
   },
   "outputs": [
    {
     "name": "stdout",
     "output_type": "stream",
     "text": [
      "Mean squared error: 4.44\n"
     ]
    }
   ],
   "source": [
    "regr = linear_model.LinearRegression(fit_intercept = False)\n",
    "regr.fit(X_train, Y_train)\n",
    "#print('Coefficients: \\n', regr.coef_)\n",
    "print(\"Mean squared error: %.2f\"\n",
    "      % np.mean((regr.predict(X_test) - Y_test) ** 2))"
   ]
  },
  {
   "cell_type": "code",
   "execution_count": null,
   "metadata": {
    "collapsed": true
   },
   "outputs": [],
   "source": [
    "## gender influence\n"
   ]
  },
  {
   "cell_type": "code",
   "execution_count": 16,
   "metadata": {
    "collapsed": false
   },
   "outputs": [
    {
     "data": {
      "image/png": "[encoded data removed]",
      "text/plain": [
       "<matplotlib.figure.Figure at 0x13db92198>"
      ]
     },
     "metadata": {},
     "output_type": "display_data"
    }
   ],
   "source": [
    "plt.scatter(Y_test, regr.predict(X_test), color='blue')\n",
    "plt.show()"
   ]
  }
 ],
 "metadata": {
  "kernelspec": {
   "display_name": "Python 3",
   "language": "python",
   "name": "python3"
  },
  "language_info": {
   "codemirror_mode": {
    "name": "ipython",
    "version": 3
   },
   "file_extension": ".py",
   "mimetype": "text/x-python",
   "name": "python",
   "nbconvert_exporter": "python",
   "pygments_lexer": "ipython3",
   "version": "3.5.2"
  }
 },
 "nbformat": 4,
 "nbformat_minor": 2
}
