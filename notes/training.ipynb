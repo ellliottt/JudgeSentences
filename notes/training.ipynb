{
 "cells": [
  {
   "cell_type": "code",
   "execution_count": 24,
   "metadata": {
    "collapsed": true
   },
   "outputs": [],
   "source": [
    "from gensim import corpora, models, similarities\n",
    "from gensim import corpora\n",
    "import gensim\n",
    "import pandas as pd\n",
    "import numpy as np\n",
    "import os\n",
    "from glob import glob\n",
    "from collections import Counter\n",
    "from sklearn.feature_extraction import DictVectorizer\n",
    "from sklearn.ensemble import RandomForestRegressor\n",
    "from sklearn import linear_model\n",
    "import sys\n",
    "from sklearn import linear_model\n",
    "sys.path.append(os.getcwd())"
   ]
  },
  {
   "cell_type": "code",
   "execution_count": 2,
   "metadata": {
    "collapsed": false
   },
   "outputs": [],
   "source": [
    "judge2count_bigram = pd.read_pickle('../rawdata/judge2count_bigram.pkl')"
   ]
  },
  {
   "cell_type": "code",
   "execution_count": 14,
   "metadata": {
    "collapsed": true
   },
   "outputs": [],
   "source": [
    "word2id = pd.read_pickle('../rawdata/word2id-2.pkl')"
   ]
  },
  {
   "cell_type": "code",
   "execution_count": 55,
   "metadata": {
    "collapsed": false
   },
   "outputs": [],
   "source": [
    "judge2count_bigram['dict'] = Counter(word2id.values())"
   ]
  },
  {
   "cell_type": "code",
   "execution_count": 56,
   "metadata": {
    "collapsed": false
   },
   "outputs": [],
   "source": [
    "v = DictVectorizer(sparse=False)\n",
    "judge2count_bigram_matrix = \\\n",
    "    v.fit_transform(list(judge2count_bigram.values()))"
   ]
  },
  {
   "cell_type": "code",
   "execution_count": 58,
   "metadata": {
    "collapsed": true
   },
   "outputs": [],
   "source": [
    "judge2count_bigram_corpus = \\\n",
    "    gensim.matutils.Dense2Corpus(judge2count_bigram_matrix.T)"
   ]
  },
  {
   "cell_type": "markdown",
   "metadata": {},
   "source": [
    "## bigram feature importance rank"
   ]
  },
  {
   "cell_type": "code",
   "execution_count": 17,
   "metadata": {
    "collapsed": false
   },
   "outputs": [
    {
     "data": {
      "text/html": [
       "<div>\n",
       "<table border=\"1\" class=\"dataframe\">\n",
       "  <thead>\n",
       "    <tr style=\"text-align: right;\">\n",
       "      <th></th>\n",
       "      <th>trial</th>\n",
       "      <th>monsex</th>\n",
       "      <th>newcit</th>\n",
       "      <th>nocounts</th>\n",
       "      <th>judgeid</th>\n",
       "      <th>malejudge</th>\n",
       "      <th>judge_yearsonbench</th>\n",
       "      <th>demean_logsenttot</th>\n",
       "      <th>year1</th>\n",
       "      <th>year2</th>\n",
       "      <th>...</th>\n",
       "      <th>cr13</th>\n",
       "      <th>cr14</th>\n",
       "      <th>cr15</th>\n",
       "      <th>cr16</th>\n",
       "      <th>cr17</th>\n",
       "      <th>cr18</th>\n",
       "      <th>cr19</th>\n",
       "      <th>cr20</th>\n",
       "      <th>cr21</th>\n",
       "      <th>cr22</th>\n",
       "    </tr>\n",
       "  </thead>\n",
       "  <tbody>\n",
       "    <tr>\n",
       "      <th>199761</th>\n",
       "      <td>0.0</td>\n",
       "      <td>0.0</td>\n",
       "      <td>0.0</td>\n",
       "      <td>2.0</td>\n",
       "      <td>MOLLOY, DONALD W.</td>\n",
       "      <td>1.0</td>\n",
       "      <td>15.0</td>\n",
       "      <td>1.2169876098632812</td>\n",
       "      <td>0</td>\n",
       "      <td>0</td>\n",
       "      <td>...</td>\n",
       "      <td>0.0</td>\n",
       "      <td>0.0</td>\n",
       "      <td>0.0</td>\n",
       "      <td>0.0</td>\n",
       "      <td>0.0</td>\n",
       "      <td>0.0</td>\n",
       "      <td>0.0</td>\n",
       "      <td>0.0</td>\n",
       "      <td>0.0</td>\n",
       "      <td>0.0</td>\n",
       "    </tr>\n",
       "    <tr>\n",
       "      <th>199371</th>\n",
       "      <td>1.0</td>\n",
       "      <td>0.0</td>\n",
       "      <td>0.0</td>\n",
       "      <td>1.0</td>\n",
       "      <td>SHANSTROM, JACK D.</td>\n",
       "      <td>1.0</td>\n",
       "      <td>20.0</td>\n",
       "      <td>-0.3454446792602539</td>\n",
       "      <td>0</td>\n",
       "      <td>0</td>\n",
       "      <td>...</td>\n",
       "      <td>0.0</td>\n",
       "      <td>0.0</td>\n",
       "      <td>0.0</td>\n",
       "      <td>0.0</td>\n",
       "      <td>0.0</td>\n",
       "      <td>0.0</td>\n",
       "      <td>0.0</td>\n",
       "      <td>0.0</td>\n",
       "      <td>0.0</td>\n",
       "      <td>0.0</td>\n",
       "    </tr>\n",
       "    <tr>\n",
       "      <th>146029</th>\n",
       "      <td>0.0</td>\n",
       "      <td>0.0</td>\n",
       "      <td>0.0</td>\n",
       "      <td>2.0</td>\n",
       "      <td>SCOTT, JEANNE E.</td>\n",
       "      <td>0.0</td>\n",
       "      <td>11.0</td>\n",
       "      <td>0.28284311294555664</td>\n",
       "      <td>0</td>\n",
       "      <td>0</td>\n",
       "      <td>...</td>\n",
       "      <td>0.0</td>\n",
       "      <td>0.0</td>\n",
       "      <td>0.0</td>\n",
       "      <td>0.0</td>\n",
       "      <td>0.0</td>\n",
       "      <td>0.0</td>\n",
       "      <td>0.0</td>\n",
       "      <td>0.0</td>\n",
       "      <td>0.0</td>\n",
       "      <td>0.0</td>\n",
       "    </tr>\n",
       "    <tr>\n",
       "      <th>219420</th>\n",
       "      <td>0.0</td>\n",
       "      <td>0.0</td>\n",
       "      <td>0.0</td>\n",
       "      <td>3.0</td>\n",
       "      <td>WHITE, RONALD A.</td>\n",
       "      <td>1.0</td>\n",
       "      <td>6.0</td>\n",
       "      <td>1.1730012893676758</td>\n",
       "      <td>0</td>\n",
       "      <td>0</td>\n",
       "      <td>...</td>\n",
       "      <td>0.0</td>\n",
       "      <td>0.0</td>\n",
       "      <td>0.0</td>\n",
       "      <td>0.0</td>\n",
       "      <td>0.0</td>\n",
       "      <td>0.0</td>\n",
       "      <td>0.0</td>\n",
       "      <td>0.0</td>\n",
       "      <td>0.0</td>\n",
       "      <td>0.0</td>\n",
       "    </tr>\n",
       "    <tr>\n",
       "      <th>174779</th>\n",
       "      <td>0.0</td>\n",
       "      <td>0.0</td>\n",
       "      <td>0.0</td>\n",
       "      <td>1.0</td>\n",
       "      <td>HOVLAND, DANIEL L.</td>\n",
       "      <td>1.0</td>\n",
       "      <td>7.0</td>\n",
       "      <td>0.1704235076904297</td>\n",
       "      <td>0</td>\n",
       "      <td>0</td>\n",
       "      <td>...</td>\n",
       "      <td>0.0</td>\n",
       "      <td>0.0</td>\n",
       "      <td>0.0</td>\n",
       "      <td>0.0</td>\n",
       "      <td>1.0</td>\n",
       "      <td>0.0</td>\n",
       "      <td>0.0</td>\n",
       "      <td>0.0</td>\n",
       "      <td>0.0</td>\n",
       "      <td>0.0</td>\n",
       "    </tr>\n",
       "  </tbody>\n",
       "</table>\n",
       "<p>5 rows × 48 columns</p>\n",
       "</div>"
      ],
      "text/plain": [
       "       trial monsex newcit nocounts             judgeid malejudge  \\\n",
       "199761   0.0    0.0    0.0      2.0   MOLLOY, DONALD W.       1.0   \n",
       "199371   1.0    0.0    0.0      1.0  SHANSTROM, JACK D.       1.0   \n",
       "146029   0.0    0.0    0.0      2.0    SCOTT, JEANNE E.       0.0   \n",
       "219420   0.0    0.0    0.0      3.0    WHITE, RONALD A.       1.0   \n",
       "174779   0.0    0.0    0.0      1.0  HOVLAND, DANIEL L.       1.0   \n",
       "\n",
       "       judge_yearsonbench    demean_logsenttot  year1  year2 ...   cr13  cr14  \\\n",
       "199761               15.0   1.2169876098632812      0      0 ...    0.0   0.0   \n",
       "199371               20.0  -0.3454446792602539      0      0 ...    0.0   0.0   \n",
       "146029               11.0  0.28284311294555664      0      0 ...    0.0   0.0   \n",
       "219420                6.0   1.1730012893676758      0      0 ...    0.0   0.0   \n",
       "174779                7.0   0.1704235076904297      0      0 ...    0.0   0.0   \n",
       "\n",
       "        cr15  cr16  cr17  cr18  cr19  cr20 cr21 cr22  \n",
       "199761   0.0   0.0   0.0   0.0   0.0   0.0  0.0  0.0  \n",
       "199371   0.0   0.0   0.0   0.0   0.0   0.0  0.0  0.0  \n",
       "146029   0.0   0.0   0.0   0.0   0.0   0.0  0.0  0.0  \n",
       "219420   0.0   0.0   0.0   0.0   0.0   0.0  0.0  0.0  \n",
       "174779   0.0   0.0   1.0   0.0   0.0   0.0  0.0  0.0  \n",
       "\n",
       "[5 rows x 48 columns]"
      ]
     },
     "execution_count": 17,
     "metadata": {},
     "output_type": "execute_result"
    }
   ],
   "source": [
    "data = pd.read_csv('../Holger_train.csv',decimal=',',index_col=0)\n",
    "test = pd.read_csv('../Holger_test.csv',decimal=',',index_col=0)\n",
    "data.head()"
   ]
  },
  {
   "cell_type": "code",
   "execution_count": 22,
   "metadata": {
    "collapsed": false
   },
   "outputs": [],
   "source": [
    "drops = ['judgeid', 'demean_logsenttot','cr22','malejudge']\n",
    "for i in range(10):\n",
    "    drops.append('year' + str(i+1))\n",
    "for i in range(8):\n",
    "    drops.append('race' + str(i+1))"
   ]
  },
  {
   "cell_type": "code",
   "execution_count": 28,
   "metadata": {
    "collapsed": false
   },
   "outputs": [],
   "source": [
    "X_train = data.drop(drops, axis = 1)\n",
    "X_train['intercept'] = 1\n",
    "Y_train = np.array(data['demean_logsenttot'], dtype=np.float32)\n",
    "X_test = test.drop(drops, axis = 1)\n",
    "X_test['intercept'] = 1\n",
    "Y_test = np.array(test['demean_logsenttot'] ,dtype=np.float32)"
   ]
  },
  {
   "cell_type": "code",
   "execution_count": 29,
   "metadata": {
    "collapsed": false
   },
   "outputs": [
    {
     "name": "stdout",
     "output_type": "stream",
     "text": [
      "Mean squared error: 1.12\n"
     ]
    }
   ],
   "source": [
    "## base line\n",
    "regr = linear_model.LinearRegression(fit_intercept = False)\n",
    "regr.fit(X_train, Y_train)\n",
    "print(\"Mean squared error: %.2f\"\n",
    "      % np.mean((regr.predict(X_test) - Y_test) ** 2))"
   ]
  },
  {
   "cell_type": "markdown",
   "metadata": {},
   "source": [
    "## test all bigrams one by one"
   ]
  },
  {
   "cell_type": "code",
   "execution_count": 61,
   "metadata": {
    "collapsed": false
   },
   "outputs": [
    {
     "ename": "KeyboardInterrupt",
     "evalue": "",
     "output_type": "error",
     "traceback": [
      "\u001b[0;31m---------------------------------------------------------------------------\u001b[0m",
      "\u001b[0;31mKeyboardInterrupt\u001b[0m                         Traceback (most recent call last)",
      "\u001b[0;32m<ipython-input-61-8795fde91a59>\u001b[0m in \u001b[0;36m<module>\u001b[0;34m()\u001b[0m\n\u001b[1;32m     12\u001b[0m     \u001b[0mX_test\u001b[0m \u001b[0;34m=\u001b[0m \u001b[0mTest_data\u001b[0m\u001b[0;34m.\u001b[0m\u001b[0mdrop\u001b[0m\u001b[0;34m(\u001b[0m\u001b[0mdrops\u001b[0m\u001b[0;34m,\u001b[0m \u001b[0maxis\u001b[0m \u001b[0;34m=\u001b[0m \u001b[0;36m1\u001b[0m\u001b[0;34m)\u001b[0m\u001b[0;34m\u001b[0m\u001b[0m\n\u001b[1;32m     13\u001b[0m     \u001b[0mX_test\u001b[0m\u001b[0;34m[\u001b[0m\u001b[0;34m'intercept'\u001b[0m\u001b[0;34m]\u001b[0m \u001b[0;34m=\u001b[0m \u001b[0;36m1\u001b[0m\u001b[0;34m\u001b[0m\u001b[0m\n\u001b[0;32m---> 14\u001b[0;31m     \u001b[0mY_test\u001b[0m \u001b[0;34m=\u001b[0m \u001b[0mnp\u001b[0m\u001b[0;34m.\u001b[0m\u001b[0marray\u001b[0m\u001b[0;34m(\u001b[0m\u001b[0mTest_data\u001b[0m\u001b[0;34m[\u001b[0m\u001b[0;34m'demean_logsenttot'\u001b[0m\u001b[0;34m]\u001b[0m \u001b[0;34m,\u001b[0m\u001b[0mdtype\u001b[0m\u001b[0;34m=\u001b[0m\u001b[0mnp\u001b[0m\u001b[0;34m.\u001b[0m\u001b[0mfloat32\u001b[0m\u001b[0;34m)\u001b[0m\u001b[0;34m\u001b[0m\u001b[0m\n\u001b[0m\u001b[1;32m     15\u001b[0m \u001b[0;34m\u001b[0m\u001b[0m\n\u001b[1;32m     16\u001b[0m \u001b[0;34m\u001b[0m\u001b[0m\n",
      "\u001b[0;31mKeyboardInterrupt\u001b[0m: "
     ]
    }
   ],
   "source": [
    "predictions = []\n",
    "improvements = []\n",
    "i = 0\n",
    "for k, v in word2id.items():\n",
    "    feature = pd.DataFrame(judge2count_bigram_matrix[:, v-1], columns=[k])\n",
    "    feature['judgeid'] = np.array(list(judge2count_bigram.keys()))\n",
    "    Train_data = pd.merge(data, feature, how='inner', on='judgeid')\n",
    "    X_train = Train_data.drop(drops, axis = 1)\n",
    "    X_train['intercept'] = 1\n",
    "    Y_train = np.array(Train_data['demean_logsenttot'], dtype=np.float32)\n",
    "    \n",
    "    Test_data = pd.merge(test, feature, how='inner', on='judgeid')\n",
    "    X_test = Test_data.drop(drops, axis = 1)\n",
    "    X_test['intercept'] = 1\n",
    "    Y_test = np.array(Test_data['demean_logsenttot'] ,dtype=np.float32)\n",
    "    \n",
    "    \n",
    "    regr.fit(X_train, Y_train)\n",
    "    accuracy = np.mean((regr.predict(X_test) - Y_test) ** 2)\n",
    "    predictions.append(accuracy)\n",
    "    improvements.append((accuracy - 1.12)/ accuracy)\n",
    "    i += 1\n",
    "    if(i % 1000 ==0 ):\n",
    "        print(i)"
   ]
  },
  {
   "cell_type": "code",
   "execution_count": 88,
   "metadata": {
    "collapsed": false
   },
   "outputs": [],
   "source": [
    "words = np.array(list(word2id.keys()))"
   ]
  },
  {
   "cell_type": "code",
   "execution_count": 92,
   "metadata": {
    "collapsed": false
   },
   "outputs": [],
   "source": [
    "predict_df = pd.DataFrame({\"words\" : words[:len(predictions)], \n",
    "                           \"predictions\" : np.array(predictions), \n",
    "                           \"improvements\" : -1*np.array(improvements)\n",
    "                          })"
   ]
  },
  {
   "cell_type": "code",
   "execution_count": 98,
   "metadata": {
    "collapsed": false
   },
   "outputs": [],
   "source": [
    "predict_df = predict_df.sort_values(['improvements'],ascending=False)\n",
    "predict_df.to_csv('../result/bigram_prediction_on_Hogler_data.csv')"
   ]
  },
  {
   "cell_type": "code",
   "execution_count": null,
   "metadata": {
    "collapsed": true
   },
   "outputs": [],
   "source": []
  }
 ],
 "metadata": {
  "kernelspec": {
   "display_name": "Python 3",
   "language": "python",
   "name": "python3"
  },
  "language_info": {
   "codemirror_mode": {
    "name": "ipython",
    "version": 3
   },
   "file_extension": ".py",
   "mimetype": "text/x-python",
   "name": "python",
   "nbconvert_exporter": "python",
   "pygments_lexer": "ipython3",
   "version": "3.5.2"
  }
 },
 "nbformat": 4,
 "nbformat_minor": 0
}
