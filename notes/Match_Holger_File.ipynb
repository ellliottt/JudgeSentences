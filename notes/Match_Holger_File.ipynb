{
 "cells": [
  {
   "cell_type": "code",
   "execution_count": 1,
   "metadata": {
    "collapsed": true
   },
   "outputs": [],
   "source": [
    "import pickle \n",
    "import pprint as pp\n",
    "import pandas as pd\n",
    "import numpy as np"
   ]
  },
  {
   "cell_type": "code",
   "execution_count": null,
   "metadata": {
    "collapsed": true
   },
   "outputs": [],
   "source": [
    "# This notebook loads the cleaned sentencing data and merges to the cluster2songername pickle file and creates\n",
    "# the train and test csv files. Note that to create the train and test files, I'm using the pandas sample function\n",
    "# with seed number 200. "
   ]
  },
  {
   "cell_type": "code",
   "execution_count": 2,
   "metadata": {
    "collapsed": true
   },
   "outputs": [],
   "source": [
    "#load stata and pkl files\n",
    "df_Holger_File = pd.read_stata('Stata/Holger_matched_USSC_TRAC2_include_demean.dta')\n",
    "key = open('cluster2songername.pkl', 'rb')\n",
    "songername = pickle.load(key)"
   ]
  },
  {
   "cell_type": "code",
   "execution_count": 3,
   "metadata": {
    "collapsed": false
   },
   "outputs": [],
   "source": [
    "#convert pickle cluster2songername file to a dataframe\n",
    "df_songername = pd.DataFrame(list(songername.items()), columns=['caseid', 'judgename'])\n"
   ]
  },
  {
   "cell_type": "code",
   "execution_count": 4,
   "metadata": {
    "collapsed": false
   },
   "outputs": [],
   "source": [
    "#Grab the unique judgename from the cluster2songername df\n",
    "unique_songername = df_songername.judgename.unique()\n",
    "df_unique_songername = pd.DataFrame(unique_songername, columns = ['judgename'])\n"
   ]
  },
  {
   "cell_type": "code",
   "execution_count": 6,
   "metadata": {
    "collapsed": false
   },
   "outputs": [],
   "source": [
    "#Merge data sets case id\n",
    "df_merge = df_Holger_File.merge(df_unique_songername, left_on = 'judgeid', right_on = 'judgename', how = 'left', indicator = True)\n",
    "df_merge = df_merge[df_merge._merge == 'both']\n",
    "df_merge = df_merge.dropna()\n",
    "df_merge = df_merge.drop(['judgename', '_merge'], axis = 1)"
   ]
  },
  {
   "cell_type": "code",
   "execution_count": 13,
   "metadata": {
    "collapsed": false
   },
   "outputs": [],
   "source": [
    "train = df_merge.sample(frac = 0.8, random_state = 200)\n",
    "test= df_merge.drop(train.index)\n",
    "train.to_csv('holger_train.csv')\n",
    "test.to_csv('holger_test.csv')"
   ]
  },
  {
   "cell_type": "code",
   "execution_count": null,
   "metadata": {
    "collapsed": true
   },
   "outputs": [],
   "source": []
  }
 ],
 "metadata": {
  "kernelspec": {
   "display_name": "Python 3",
   "language": "python",
   "name": "python3"
  },
  "language_info": {
   "codemirror_mode": {
    "name": "ipython",
    "version": 3
   },
   "file_extension": ".py",
   "mimetype": "text/x-python",
   "name": "python",
   "nbconvert_exporter": "python",
   "pygments_lexer": "ipython3",
   "version": "3.5.2"
  }
 },
 "nbformat": 4,
 "nbformat_minor": 2
}
