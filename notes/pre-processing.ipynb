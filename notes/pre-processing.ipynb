{
 "cells": [
  {
   "cell_type": "code",
   "execution_count": 85,
   "metadata": {
    "collapsed": true
   },
   "outputs": [],
   "source": [
    "import pandas as pd\n",
    "import numpy as np\n",
    "import os\n",
    "from glob import glob\n",
    "from collections import Counter\n",
    "os.chdir('/Users/xiaodiu/Documents/github/JudgeSentences/')"
   ]
  },
  {
   "cell_type": "code",
   "execution_count": 5,
   "metadata": {
    "collapsed": false
   },
   "outputs": [],
   "source": [
    "df = pd.DataFrame()\n",
    "itr = pd.read_stata('rawdata/sentences/opafy00nid.dta',iterator=True)\n",
    "chunk = itr.get_chunk(10000)\n",
    "df = df.append(chunk, ignore_index=True)"
   ]
  },
  {
   "cell_type": "code",
   "execution_count": 4,
   "metadata": {
    "collapsed": false
   },
   "outputs": [
    {
     "name": "stdout",
     "output_type": "stream",
     "text": [
      "total 251963\n"
     ]
    }
   ],
   "source": [
    "\n",
    "from glob import glob\n",
    "\n",
    "import pandas as pd\n",
    "import re\n",
    "\n",
    "\n",
    "folders = glob('*')\n",
    "\n",
    "num = 0\n",
    "for folder in folders:        \n",
    "    members = glob(folder + '/*txt')\n",
    "    num += len(members)\n",
    "    \n",
    "print \"total %d\" %(num)"
   ]
  },
  {
   "cell_type": "code",
   "execution_count": 15,
   "metadata": {
    "collapsed": false
   },
   "outputs": [],
   "source": [
    "case2judge = pd.read_pickle('rawdata/cluster2songername.pkl')\n",
    "casefreq_akd = pd.read_pickle('rawdata/case_level/casefreqs-akd.pkl')\n",
    "id2word = pd.read_pickle('rawdata/id2word-2.pkl')\n",
    "word2id = pd.read_pickle('rawdata/word2id-2.pkl')\n",
    "df_Holger = pd.read_stata('rawdata/Holger_matched_USSC_TRAC2.dta')\n",
    "df_Holger_demean = pd.read_stata('rawdata/Holger_matched_USSC_TRAC2_include_demean.dta')\n",
    "df_Trac_USSC_Judges = pd.read_stata('rawdata/Trac_USSC_JudgesBIOs.dta')\n",
    "docfreq_akd = pd.read_pickle('rawdata/text/docfreqs-akd.pkl')"
   ]
  },
  {
   "cell_type": "code",
   "execution_count": 114,
   "metadata": {
    "collapsed": false
   },
   "outputs": [
    {
     "name": "stdout",
     "output_type": "stream",
     "text": [
      "finished : 20\n",
      "finished : 40\n",
      "finished : 60\n",
      "finished : 80\n",
      "finished : 100\n"
     ]
    }
   ],
   "source": [
    "case2judge = pd.read_pickle('rawdata/cluster2songername.pkl')\n",
    "judge2case = dict(zip(case2judge.values(),case2judge.keys()))\n",
    "files = glob('rawdata/case_level/*.pkl')\n",
    "num = len(files)\n",
    "judge2count_bigram = Counter()\n",
    "i = 1\n",
    "for file in files:\n",
    "    #print('file :'+ file)\n",
    "    case_freq = pd.read_pickle(file)\n",
    "    for k,v in case_freq.items():\n",
    "        k = int(k)\n",
    "        if k in case2judge:\n",
    "            judge = case2judge[k]\n",
    "            #print('judge_name:' + judge)\n",
    "            if(judge2count_bigram[judge] == 0):\n",
    "                judge2count_bigram[judge] = Counter()\n",
    "            judge2count_bigram[judge] += v\n",
    "    if(i % 20 == 0 ):\n",
    "        print('finished : %s' % (i))\n",
    "    i += 1"
   ]
  },
  {
   "cell_type": "code",
   "execution_count": 118,
   "metadata": {
    "collapsed": false
   },
   "outputs": [],
   "source": [
    "judge2exist_bigram = Counter()\n",
    "for k, v in judge2count_bigram.items():\n",
    "    judge2exist_bigram[k] = Counter(v.keys())"
   ]
  },
  {
   "cell_type": "code",
   "execution_count": 120,
   "metadata": {
    "collapsed": false
   },
   "outputs": [],
   "source": [
    "pd.to_pickle(judge2exist_bigram,\n",
    "             'rawdata/judge2exist_bigram.pkl')\n",
    "pd.to_pickle(judge2count_bigram,\n",
    "             'rawdata/judge2count_bigram.pkl')"
   ]
  },
  {
   "cell_type": "code",
   "execution_count": null,
   "metadata": {
    "collapsed": true
   },
   "outputs": [],
   "source": []
  }
 ],
 "metadata": {
  "kernelspec": {
   "display_name": "Python 3",
   "language": "python",
   "name": "python3"
  },
  "language_info": {
   "codemirror_mode": {
    "name": "ipython",
    "version": 3
   },
   "file_extension": ".py",
   "mimetype": "text/x-python",
   "name": "python",
   "nbconvert_exporter": "python",
   "pygments_lexer": "ipython3",
   "version": "3.5.2"
  }
 },
 "nbformat": 4,
 "nbformat_minor": 0
}
