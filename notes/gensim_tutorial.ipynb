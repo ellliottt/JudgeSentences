{
 "cells": [
  {
   "cell_type": "code",
   "execution_count": 23,
   "metadata": {
    "collapsed": false
   },
   "outputs": [],
   "source": [
    "from gensim import corpora, models, similarities\n",
    "from gensim import corpora\n",
    "import gensim\n",
    "import pandas as pd\n",
    "import numpy as np\n",
    "import os\n",
    "from glob import glob\n",
    "from collections import Counter\n",
    "from sklearn.feature_extraction import DictVectorizer\n",
    "from sklearn.ensemble import RandomForestRegressor\n",
    "from sklearn import linear_model\n",
    "import sys\n",
    "sys.path.append(os.getcwd())"
   ]
  },
  {
   "cell_type": "markdown",
   "metadata": {},
   "source": [
    "### part 1 : Store the bigram info in sparse matrix"
   ]
  },
  {
   "cell_type": "code",
   "execution_count": 16,
   "metadata": {
    "collapsed": false
   },
   "outputs": [],
   "source": [
    "# Use scripts /processing/bigram_feature.py produce two files:\n",
    "# 1. rawdata/judge2exist_bigram.pkl\n",
    "# 2. rawdata/judge2count_bigram.pkl\n",
    "\n",
    "judge2exist_bigram = pd.read_pickle('../rawdata/judge2exist_bigram.pkl')\n",
    "judge2count_bigram = pd.read_pickle('../rawdata/judge2count_bigram.pkl')\n",
    "word2id = pd.read_pickle('../rawdata/word2id-2.pkl')"
   ]
  },
  {
   "cell_type": "code",
   "execution_count": 3,
   "metadata": {
    "collapsed": true
   },
   "outputs": [],
   "source": [
    "# Build a Dictionary Class in gensim package \n",
    "# Transform the original word2id \n",
    "judge_bigram_dict = corpora.Dictionary()\n",
    "judge_bigram_dict.token2id.update(word2id) "
   ]
  },
  {
   "cell_type": "code",
   "execution_count": 19,
   "metadata": {
    "collapsed": false
   },
   "outputs": [],
   "source": [
    "# Transform the bigram into sparse matrix\n",
    "# This is not the final output\n",
    "v = DictVectorizer(sparse=False)\n",
    "judge2exist_bigram_matrix = \\\n",
    "    v.fit_transform(judge2exist_bigram.values())\n",
    "judge2count_bigram_matrix = \\\n",
    "    v.fit_transform(judge2count_bigram.values())\n"
   ]
  },
  {
   "cell_type": "code",
   "execution_count": 20,
   "metadata": {
    "collapsed": false
   },
   "outputs": [],
   "source": [
    "# Transform the sparse matrix into corpus.\n",
    "# This will save a lot of space and is very efficent to be transformed into sparse matrix\n",
    "judge2exist_bigram_corpus = \\\n",
    "    gensim.matutils.Dense2Corpus(judge2exist_bigram_matrix.T)\n",
    "judge2count_bigram_corpus = \\\n",
    "    gensim.matutils.Dense2Corpus(judge2count_bigram_matrix.T)"
   ]
  },
  {
   "cell_type": "code",
   "execution_count": 24,
   "metadata": {
    "collapsed": false
   },
   "outputs": [],
   "source": [
    "# Store all result\n",
    "corpora.MmCorpus.serialize('../rawdata/judge2count_bigram_corpus.mm', judge2count_bigram_corpus)\n",
    "corpora.MmCorpus.serialize('../rawdata/judge2exist_bigram_corpus.mm', judge2exist_bigram_corpus)\n",
    "judge_bigram_dict.save('../rawdata/judge_bigram_dict.dict')"
   ]
  },
  {
   "cell_type": "markdown",
   "metadata": {},
   "source": [
    "### part 2 : Reduce dimension & LDA"
   ]
  },
  {
   "cell_type": "code",
   "execution_count": 10,
   "metadata": {
    "collapsed": false
   },
   "outputs": [],
   "source": [
    "## Transform corpus into tfidf sequence\n",
    "judge2count_bigram_corpus = corpora.MmCorpus('../rawdata/judge2count_bigram_corpus.mm')\n",
    "judge_bigram_dict = corpora.Dictionary.load('../rawdata/judge_bigram_dict.dict')"
   ]
  },
  {
   "cell_type": "code",
   "execution_count": null,
   "metadata": {
    "collapsed": true
   },
   "outputs": [],
   "source": [
    "tfidf = models.TfidfModel(judge2count_bigram_corpus)\n",
    "judge2count_bigram_corpus_tfidf = tfidf[judge2count_bigram_corpus]\n",
    "\n",
    "printitem(judge2count_bigram_corpus_tfidf)"
   ]
  },
  {
   "cell_type": "code",
   "execution_count": 29,
   "metadata": {
    "collapsed": false
   },
   "outputs": [
    {
     "data": {
      "text/plain": [
       "5"
      ]
     },
     "execution_count": 29,
     "metadata": {},
     "output_type": "execute_result"
    }
   ],
   "source": [
    "k = 5 # topic num, intutivly , it can be set as classes num of judge cases \n",
    "k"
   ]
  },
  {
   "cell_type": "code",
   "execution_count": 30,
   "metadata": {
    "collapsed": false
   },
   "outputs": [],
   "source": [
    " \n",
    "# LSI transformation \n",
    "lsi = models.LsiModel(judge2count_bigram_corpus_tfidf, id2word=judge_bigram_dict, num_topics=k) \n",
    "judge2count_bigram_corpus_lsi = lsi[judge2count_bigram_corpus_tfidf]"
   ]
  },
  {
   "cell_type": "code",
   "execution_count": 31,
   "metadata": {
    "collapsed": false
   },
   "outputs": [
    {
     "name": "stdout",
     "output_type": "stream",
     "text": [
      "[(0, 0.22146715548926538), (1, 0.03865311045642781), (2, -0.046704539146942725), (3, -0.041426743172759184), (4, 0.032230612684484093)]\n",
      "[(0, 0.13746201014796552), (1, -0.078181728096736181), (2, -0.027989818874599878), (3, -0.01490720464033355), (4, 0.012790288191600083)]\n",
      "[(0, 0.40712544047145532), (1, 0.12003322051787807), (2, -0.083355146102800606), (3, -0.22069959828371735), (4, 0.049440065706590305)]\n"
     ]
    }
   ],
   "source": [
    "printitem(judge2count_bigram_corpus_lsi)\n",
    "# need multi test ,so no need to save (just save the best)\n",
    "# lsi.save('rawdata/judge2count_bigram_lsi.lsi')  "
   ]
  },
  {
   "cell_type": "code",
   "execution_count": 38,
   "metadata": {
    "collapsed": true
   },
   "outputs": [],
   "source": [
    "# Random Projections, RP similiar to LDA\n",
    "rp = models.RpModel(judge2count_bigram_corpus_tfidf, id2word= judge_bigram_dict, num_topics=k)\n",
    "judge2count_bigram_corpus_RP = rp[judge2count_bigram_corpus_tfidf]"
   ]
  },
  {
   "cell_type": "code",
   "execution_count": 1,
   "metadata": {
    "collapsed": false
   },
   "outputs": [
    {
     "ename": "NameError",
     "evalue": "name 'judge2count_bigram_corpus' is not defined",
     "output_type": "error",
     "traceback": [
      "\u001b[0;31m---------------------------------------------------------------------------\u001b[0m",
      "\u001b[0;31mNameError\u001b[0m                                 Traceback (most recent call last)",
      "\u001b[0;32m<ipython-input-1-7902a4926a16>\u001b[0m in \u001b[0;36m<module>\u001b[0;34m()\u001b[0m\n\u001b[0;32m----> 1\u001b[0;31m \u001b[0mjudge2count_bigram_corpus\u001b[0m\u001b[0;34m\u001b[0m\u001b[0m\n\u001b[0m",
      "\u001b[0;31mNameError\u001b[0m: name 'judge2count_bigram_corpus' is not defined"
     ]
    }
   ],
   "source": [
    "judge2count_bigram_corpus"
   ]
  },
  {
   "cell_type": "code",
   "execution_count": 35,
   "metadata": {
    "collapsed": true
   },
   "outputs": [],
   "source": [
    "# LDA topic model Very slow, not cross validation\n",
    "LDA = models.LdaModel(judge2count_bigram_corpus_tfidf, id2word=judge_bigram_dict, num_topics=k)\n",
    "judge2count_bigram_corpus_lda = LDA[judge2count_bigram_corpus_tfidf]"
   ]
  },
  {
   "cell_type": "code",
   "execution_count": null,
   "metadata": {
    "collapsed": true
   },
   "outputs": [],
   "source": [
    "printitem(judge2count_bigram_corpus_lda)"
   ]
  },
  {
   "cell_type": "markdown",
   "metadata": {},
   "source": [
    "### part 3. Train with new features"
   ]
  },
  {
   "cell_type": "code",
   "execution_count": 2,
   "metadata": {
    "collapsed": false
   },
   "outputs": [
    {
     "data": {
      "text/html": [
       "<div>\n",
       "<table border=\"1\" class=\"dataframe\">\n",
       "  <thead>\n",
       "    <tr style=\"text-align: right;\">\n",
       "      <th></th>\n",
       "      <th>trial</th>\n",
       "      <th>monsex</th>\n",
       "      <th>newcit</th>\n",
       "      <th>nocounts</th>\n",
       "      <th>judgeid</th>\n",
       "      <th>malejudge</th>\n",
       "      <th>judge_yearsonbench</th>\n",
       "      <th>demean_logsenttot</th>\n",
       "      <th>year1</th>\n",
       "      <th>year2</th>\n",
       "      <th>...</th>\n",
       "      <th>cr13</th>\n",
       "      <th>cr14</th>\n",
       "      <th>cr15</th>\n",
       "      <th>cr16</th>\n",
       "      <th>cr17</th>\n",
       "      <th>cr18</th>\n",
       "      <th>cr19</th>\n",
       "      <th>cr20</th>\n",
       "      <th>cr21</th>\n",
       "      <th>cr22</th>\n",
       "    </tr>\n",
       "  </thead>\n",
       "  <tbody>\n",
       "    <tr>\n",
       "      <th>199761</th>\n",
       "      <td>0.0</td>\n",
       "      <td>0.0</td>\n",
       "      <td>0.0</td>\n",
       "      <td>2.0</td>\n",
       "      <td>MOLLOY, DONALD W.</td>\n",
       "      <td>1.0</td>\n",
       "      <td>15.0</td>\n",
       "      <td>1.2169876098632812</td>\n",
       "      <td>0</td>\n",
       "      <td>0</td>\n",
       "      <td>...</td>\n",
       "      <td>0.0</td>\n",
       "      <td>0.0</td>\n",
       "      <td>0.0</td>\n",
       "      <td>0.0</td>\n",
       "      <td>0.0</td>\n",
       "      <td>0.0</td>\n",
       "      <td>0.0</td>\n",
       "      <td>0.0</td>\n",
       "      <td>0.0</td>\n",
       "      <td>0.0</td>\n",
       "    </tr>\n",
       "    <tr>\n",
       "      <th>199371</th>\n",
       "      <td>1.0</td>\n",
       "      <td>0.0</td>\n",
       "      <td>0.0</td>\n",
       "      <td>1.0</td>\n",
       "      <td>SHANSTROM, JACK D.</td>\n",
       "      <td>1.0</td>\n",
       "      <td>20.0</td>\n",
       "      <td>-0.3454446792602539</td>\n",
       "      <td>0</td>\n",
       "      <td>0</td>\n",
       "      <td>...</td>\n",
       "      <td>0.0</td>\n",
       "      <td>0.0</td>\n",
       "      <td>0.0</td>\n",
       "      <td>0.0</td>\n",
       "      <td>0.0</td>\n",
       "      <td>0.0</td>\n",
       "      <td>0.0</td>\n",
       "      <td>0.0</td>\n",
       "      <td>0.0</td>\n",
       "      <td>0.0</td>\n",
       "    </tr>\n",
       "    <tr>\n",
       "      <th>146029</th>\n",
       "      <td>0.0</td>\n",
       "      <td>0.0</td>\n",
       "      <td>0.0</td>\n",
       "      <td>2.0</td>\n",
       "      <td>SCOTT, JEANNE E.</td>\n",
       "      <td>0.0</td>\n",
       "      <td>11.0</td>\n",
       "      <td>0.28284311294555664</td>\n",
       "      <td>0</td>\n",
       "      <td>0</td>\n",
       "      <td>...</td>\n",
       "      <td>0.0</td>\n",
       "      <td>0.0</td>\n",
       "      <td>0.0</td>\n",
       "      <td>0.0</td>\n",
       "      <td>0.0</td>\n",
       "      <td>0.0</td>\n",
       "      <td>0.0</td>\n",
       "      <td>0.0</td>\n",
       "      <td>0.0</td>\n",
       "      <td>0.0</td>\n",
       "    </tr>\n",
       "    <tr>\n",
       "      <th>219420</th>\n",
       "      <td>0.0</td>\n",
       "      <td>0.0</td>\n",
       "      <td>0.0</td>\n",
       "      <td>3.0</td>\n",
       "      <td>WHITE, RONALD A.</td>\n",
       "      <td>1.0</td>\n",
       "      <td>6.0</td>\n",
       "      <td>1.1730012893676758</td>\n",
       "      <td>0</td>\n",
       "      <td>0</td>\n",
       "      <td>...</td>\n",
       "      <td>0.0</td>\n",
       "      <td>0.0</td>\n",
       "      <td>0.0</td>\n",
       "      <td>0.0</td>\n",
       "      <td>0.0</td>\n",
       "      <td>0.0</td>\n",
       "      <td>0.0</td>\n",
       "      <td>0.0</td>\n",
       "      <td>0.0</td>\n",
       "      <td>0.0</td>\n",
       "    </tr>\n",
       "    <tr>\n",
       "      <th>174779</th>\n",
       "      <td>0.0</td>\n",
       "      <td>0.0</td>\n",
       "      <td>0.0</td>\n",
       "      <td>1.0</td>\n",
       "      <td>HOVLAND, DANIEL L.</td>\n",
       "      <td>1.0</td>\n",
       "      <td>7.0</td>\n",
       "      <td>0.1704235076904297</td>\n",
       "      <td>0</td>\n",
       "      <td>0</td>\n",
       "      <td>...</td>\n",
       "      <td>0.0</td>\n",
       "      <td>0.0</td>\n",
       "      <td>0.0</td>\n",
       "      <td>0.0</td>\n",
       "      <td>1.0</td>\n",
       "      <td>0.0</td>\n",
       "      <td>0.0</td>\n",
       "      <td>0.0</td>\n",
       "      <td>0.0</td>\n",
       "      <td>0.0</td>\n",
       "    </tr>\n",
       "  </tbody>\n",
       "</table>\n",
       "<p>5 rows × 48 columns</p>\n",
       "</div>"
      ],
      "text/plain": [
       "       trial monsex newcit nocounts             judgeid malejudge  \\\n",
       "199761   0.0    0.0    0.0      2.0   MOLLOY, DONALD W.       1.0   \n",
       "199371   1.0    0.0    0.0      1.0  SHANSTROM, JACK D.       1.0   \n",
       "146029   0.0    0.0    0.0      2.0    SCOTT, JEANNE E.       0.0   \n",
       "219420   0.0    0.0    0.0      3.0    WHITE, RONALD A.       1.0   \n",
       "174779   0.0    0.0    0.0      1.0  HOVLAND, DANIEL L.       1.0   \n",
       "\n",
       "       judge_yearsonbench    demean_logsenttot  year1  year2 ...   cr13  cr14  \\\n",
       "199761               15.0   1.2169876098632812      0      0 ...    0.0   0.0   \n",
       "199371               20.0  -0.3454446792602539      0      0 ...    0.0   0.0   \n",
       "146029               11.0  0.28284311294555664      0      0 ...    0.0   0.0   \n",
       "219420                6.0   1.1730012893676758      0      0 ...    0.0   0.0   \n",
       "174779                7.0   0.1704235076904297      0      0 ...    0.0   0.0   \n",
       "\n",
       "        cr15  cr16  cr17  cr18  cr19  cr20 cr21 cr22  \n",
       "199761   0.0   0.0   0.0   0.0   0.0   0.0  0.0  0.0  \n",
       "199371   0.0   0.0   0.0   0.0   0.0   0.0  0.0  0.0  \n",
       "146029   0.0   0.0   0.0   0.0   0.0   0.0  0.0  0.0  \n",
       "219420   0.0   0.0   0.0   0.0   0.0   0.0  0.0  0.0  \n",
       "174779   0.0   0.0   1.0   0.0   0.0   0.0  0.0  0.0  \n",
       "\n",
       "[5 rows x 48 columns]"
      ]
     },
     "execution_count": 2,
     "metadata": {},
     "output_type": "execute_result"
    }
   ],
   "source": [
    "data = pd.read_csv('../Holger_train.csv',decimal=',',index_col=0)\n",
    "test = pd.read_csv('../Holger_test.csv',decimal=',',index_col=0)\n",
    "data.head()"
   ]
  },
  {
   "cell_type": "code",
   "execution_count": 50,
   "metadata": {
    "collapsed": false
   },
   "outputs": [],
   "source": [
    "judgeid2row ={k: i for i,k in enumerate(judge2count_bigram.keys()) }"
   ]
  },
  {
   "cell_type": "code",
   "execution_count": 38,
   "metadata": {
    "collapsed": false
   },
   "outputs": [],
   "source": [
    "#judge2count_bigram_corpus_RP\n",
    "#corpus = corpora.MmCorpus('../rawdata/judge2count_bigram_corpus.mm')\n",
    "count_bigram_corpus_matrix = np.zeros([1329, k])\n",
    "for i, j in enumerate(judge2count_bigram_corpus_lsi):\n",
    "    item = [v[1] for v in j]\n",
    "    count_bigram_corpus_matrix[i,:] = item\n"
   ]
  },
  {
   "cell_type": "code",
   "execution_count": 39,
   "metadata": {
    "collapsed": false
   },
   "outputs": [
    {
     "data": {
      "text/plain": [
       "array([ 0.22146716,  0.03865311, -0.04670454, -0.04142674,  0.03223061])"
      ]
     },
     "execution_count": 39,
     "metadata": {},
     "output_type": "execute_result"
    }
   ],
   "source": [
    "count_bigram_corpus_matrix[0,:]\n"
   ]
  },
  {
   "cell_type": "code",
   "execution_count": 44,
   "metadata": {
    "collapsed": false
   },
   "outputs": [
    {
     "data": {
      "text/html": [
       "<div>\n",
       "<table border=\"1\" class=\"dataframe\">\n",
       "  <thead>\n",
       "    <tr style=\"text-align: right;\">\n",
       "      <th></th>\n",
       "      <th>trial</th>\n",
       "      <th>monsex</th>\n",
       "      <th>newcit</th>\n",
       "      <th>nocounts</th>\n",
       "      <th>judgeid</th>\n",
       "      <th>malejudge</th>\n",
       "      <th>judge_yearsonbench</th>\n",
       "      <th>demean_logsenttot</th>\n",
       "      <th>year1</th>\n",
       "      <th>year2</th>\n",
       "      <th>...</th>\n",
       "      <th>cr18</th>\n",
       "      <th>cr19</th>\n",
       "      <th>cr20</th>\n",
       "      <th>cr21</th>\n",
       "      <th>cr22</th>\n",
       "      <th>topic0</th>\n",
       "      <th>topic1</th>\n",
       "      <th>topic2</th>\n",
       "      <th>topic3</th>\n",
       "      <th>topic4</th>\n",
       "    </tr>\n",
       "  </thead>\n",
       "  <tbody>\n",
       "    <tr>\n",
       "      <th>1</th>\n",
       "      <td>0.0</td>\n",
       "      <td>0.0</td>\n",
       "      <td>0.0</td>\n",
       "      <td>1.0</td>\n",
       "      <td>MOLLOY, DONALD W.</td>\n",
       "      <td>1.0</td>\n",
       "      <td>12.0</td>\n",
       "      <td>0.41335630416870117</td>\n",
       "      <td>0</td>\n",
       "      <td>0</td>\n",
       "      <td>...</td>\n",
       "      <td>0.0</td>\n",
       "      <td>0.0</td>\n",
       "      <td>0.0</td>\n",
       "      <td>0.0</td>\n",
       "      <td>0.0</td>\n",
       "      <td>0.378476</td>\n",
       "      <td>0.051452</td>\n",
       "      <td>-0.081332</td>\n",
       "      <td>0.008431</td>\n",
       "      <td>0.03677</td>\n",
       "    </tr>\n",
       "    <tr>\n",
       "      <th>3</th>\n",
       "      <td>0.0</td>\n",
       "      <td>0.0</td>\n",
       "      <td>0.0</td>\n",
       "      <td>1.0</td>\n",
       "      <td>MOLLOY, DONALD W.</td>\n",
       "      <td>1.0</td>\n",
       "      <td>13.0</td>\n",
       "      <td>1.4375112056732178</td>\n",
       "      <td>0</td>\n",
       "      <td>0</td>\n",
       "      <td>...</td>\n",
       "      <td>0.0</td>\n",
       "      <td>0.0</td>\n",
       "      <td>0.0</td>\n",
       "      <td>0.0</td>\n",
       "      <td>0.0</td>\n",
       "      <td>0.378476</td>\n",
       "      <td>0.051452</td>\n",
       "      <td>-0.081332</td>\n",
       "      <td>0.008431</td>\n",
       "      <td>0.03677</td>\n",
       "    </tr>\n",
       "    <tr>\n",
       "      <th>1000</th>\n",
       "      <td>0.0</td>\n",
       "      <td>0.0</td>\n",
       "      <td>1.0</td>\n",
       "      <td>1.0</td>\n",
       "      <td>WHITE, RONALD A.</td>\n",
       "      <td>1.0</td>\n",
       "      <td>6.0</td>\n",
       "      <td>-0.45252299308776855</td>\n",
       "      <td>0</td>\n",
       "      <td>0</td>\n",
       "      <td>...</td>\n",
       "      <td>0.0</td>\n",
       "      <td>0.0</td>\n",
       "      <td>0.0</td>\n",
       "      <td>0.0</td>\n",
       "      <td>0.0</td>\n",
       "      <td>0.131729</td>\n",
       "      <td>-0.020603</td>\n",
       "      <td>-0.011237</td>\n",
       "      <td>-0.015328</td>\n",
       "      <td>-0.00584</td>\n",
       "    </tr>\n",
       "  </tbody>\n",
       "</table>\n",
       "<p>3 rows × 53 columns</p>\n",
       "</div>"
      ],
      "text/plain": [
       "     trial monsex newcit nocounts            judgeid malejudge  \\\n",
       "1      0.0    0.0    0.0      1.0  MOLLOY, DONALD W.       1.0   \n",
       "3      0.0    0.0    0.0      1.0  MOLLOY, DONALD W.       1.0   \n",
       "1000   0.0    0.0    1.0      1.0   WHITE, RONALD A.       1.0   \n",
       "\n",
       "     judge_yearsonbench     demean_logsenttot  year1  year2   ...     cr18  \\\n",
       "1                  12.0   0.41335630416870117      0      0   ...      0.0   \n",
       "3                  13.0    1.4375112056732178      0      0   ...      0.0   \n",
       "1000                6.0  -0.45252299308776855      0      0   ...      0.0   \n",
       "\n",
       "      cr19  cr20  cr21  cr22    topic0    topic1    topic2    topic3   topic4  \n",
       "1      0.0   0.0   0.0   0.0  0.378476  0.051452 -0.081332  0.008431  0.03677  \n",
       "3      0.0   0.0   0.0   0.0  0.378476  0.051452 -0.081332  0.008431  0.03677  \n",
       "1000   0.0   0.0   0.0   0.0  0.131729 -0.020603 -0.011237 -0.015328 -0.00584  \n",
       "\n",
       "[3 rows x 53 columns]"
      ]
     },
     "execution_count": 44,
     "metadata": {},
     "output_type": "execute_result"
    }
   ],
   "source": [
    "topic_featuresDF = pd.DataFrame(count_bigram_corpus_matrix, columns=['topic'+str(i) for i in range(k)])\n",
    "topic_featuresDF['judgeid'] = np.array(list(judge2count_bigram.keys()))\n",
    "Train_data = pd.merge(data, topic_featuresDF, how='inner', on='judgeid')\n",
    "#print(Train_data.describe())\n",
    "\n",
    "Test_data = pd.merge(test, topic_featuresDF, how='inner', on='judgeid')\n",
    "#print(Test_data.describe())\n",
    "Train_data.iloc[[1,3,1000]]"
   ]
  },
  {
   "cell_type": "code",
   "execution_count": 46,
   "metadata": {
    "collapsed": false
   },
   "outputs": [],
   "source": [
    "X_train_ori = pd.concat([Train_data.loc[:, ['nocounts','malejudge','judge_yearsonbench']] ,\n",
    "                    Train_data.loc[:,'year2':'cr21']], axis = 1,ignore_index=True)\n",
    "X_train = pd.concat([Train_data.loc[:, ['nocounts','malejudge','judge_yearsonbench']] ,\n",
    "                    Train_data.loc[:,'year2':'topic4']], axis = 1,ignore_index=True)\n",
    "X_test =  pd.concat([Test_data.loc[:, ['nocounts','malejudge','judge_yearsonbench']] ,\n",
    "                    Test_data.loc[:,'year2':'topic4']], axis = 1,ignore_index=True)\n",
    "X_test_ori =  pd.concat([Test_data.loc[:, ['nocounts','malejudge','judge_yearsonbench']] ,\n",
    "                    Test_data.loc[:,'year2':'cr21']], axis = 1,ignore_index=True)\n",
    "y_train = Train_data.loc[:,'demean_logsenttot'].values.astype(np.float32)\n",
    "y_test = Test_data.loc[:,'demean_logsenttot'].values.astype(np.float32)\n"
   ]
  },
  {
   "cell_type": "code",
   "execution_count": 47,
   "metadata": {
    "collapsed": false
   },
   "outputs": [
    {
     "data": {
      "text/plain": [
       "LinearRegression(copy_X=True, fit_intercept=True, n_jobs=1, normalize=False)"
      ]
     },
     "execution_count": 47,
     "metadata": {},
     "output_type": "execute_result"
    }
   ],
   "source": [
    "regr_rf = RandomForestRegressor(max_depth=30)\n",
    "regr_rf.fit(X_train, y_train)\n",
    "\n",
    "lr = linear_model.LinearRegression()\n",
    "lr.fit(X_train, y_train)\n",
    "\n",
    "lr_ori = linear_model.LinearRegression()\n",
    "lr_ori.fit(X_train_ori, y_train)"
   ]
  },
  {
   "cell_type": "code",
   "execution_count": 48,
   "metadata": {
    "collapsed": false
   },
   "outputs": [
    {
     "name": "stdout",
     "output_type": "stream",
     "text": [
      "1.23983248219 1.15705574256 1.15739065631\n"
     ]
    }
   ],
   "source": [
    "y_pred = regr_rf.predict(X_test)\n",
    "y_pred_lr = lr.predict(X_test)\n",
    "y_pred_ori = lr_ori.predict(X_test_ori)\n",
    "error = np.sum(np.square(y_pred - y_test))/len(y_test)\n",
    "error_lr = np.sum(np.square(y_pred_lr - y_test))/len(y_test)\n",
    "error_ori = np.sum(np.square(y_pred_ori - y_test))/len(y_test)\n",
    "print(error, error_lr, error_ori)\n",
    "\n"
   ]
  },
  {
   "cell_type": "markdown",
   "metadata": {},
   "source": [
    "### Aux function"
   ]
  },
  {
   "cell_type": "code",
   "execution_count": 7,
   "metadata": {
    "collapsed": false
   },
   "outputs": [],
   "source": [
    "def printitem(corpus,num = 1):\n",
    "    for i, j in enumerate(corpus):\n",
    "        print(j)\n",
    "        if i > num:\n",
    "            break "
   ]
  },
  {
   "cell_type": "code",
   "execution_count": null,
   "metadata": {
    "collapsed": true
   },
   "outputs": [],
   "source": []
  }
 ],
 "metadata": {
  "kernelspec": {
   "display_name": "Python 3",
   "language": "python",
   "name": "python3"
  },
  "language_info": {
   "codemirror_mode": {
    "name": "ipython",
    "version": 3
   },
   "file_extension": ".py",
   "mimetype": "text/x-python",
   "name": "python",
   "nbconvert_exporter": "python",
   "pygments_lexer": "ipython3",
   "version": "3.5.2"
  }
 },
 "nbformat": 4,
 "nbformat_minor": 0
}
