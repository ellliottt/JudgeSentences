{
 "cells": [
  {
   "cell_type": "code",
   "execution_count": 20,
   "metadata": {
    "collapsed": false
   },
   "outputs": [],
   "source": [
    "from gensim import corpora, models, similarities\n",
    "from gensim import corpora\n",
    "import gensim\n",
    "import pandas as pd\n",
    "import numpy as np\n",
    "import os\n",
    "from glob import glob\n",
    "from collections import Counter\n",
    "from sklearn.feature_extraction import DictVectorizer\n",
    "import sys\n",
    "sys.path.append(os.getcwd())"
   ]
  },
  {
   "cell_type": "markdown",
   "metadata": {},
   "source": [
    "### part 1 : Store the bigram info in sparse matrix"
   ]
  },
  {
   "cell_type": "code",
   "execution_count": 14,
   "metadata": {
    "collapsed": false
   },
   "outputs": [],
   "source": [
    "# Use scripts /processing/bigram_feature.py produce two files:\n",
    "# 1. rawdata/judge2exist_bigram.pkl\n",
    "# 2. rawdata/judge2count_bigram.pkl\n",
    "\n",
    "judge2exist_bigram = pd.read_pickle('rawdata/judge2exist_bigram.pkl')\n",
    "judge2count_bigram = pd.read_pickle('rawdata/judge2count_bigram.pkl')\n",
    "word2id = pd.read_pickle('rawdata/word2id-2.pkl')"
   ]
  },
  {
   "cell_type": "code",
   "execution_count": null,
   "metadata": {
    "collapsed": true
   },
   "outputs": [],
   "source": [
    "# Build a Dictionary Class in gensim package \n",
    "# Transform the original word2id \n",
    "judge_bigram_dict = corpora.Dictionary()\n",
    "judge_bigram_dict.token2id.update(word2id) "
   ]
  },
  {
   "cell_type": "code",
   "execution_count": 15,
   "metadata": {
    "collapsed": false
   },
   "outputs": [],
   "source": [
    "# Transform the bigram into sparse matrix\n",
    "# This is not the final output\n",
    "v = DictVectorizer(sparse=True)\n",
    "judge2exist_bigram_matrix = \\\n",
    "    v.fit_transform(list(judge2exist_bigram.values()))\n",
    "judge2count_bigram_matrix = \\\n",
    "    v.fit_transform(list(judge2count_bigram.values()))"
   ]
  },
  {
   "cell_type": "code",
   "execution_count": 16,
   "metadata": {
    "collapsed": false
   },
   "outputs": [],
   "source": [
    "# Transform the sparse matrix into corpus.\n",
    "# This will save a lot of space and is very efficent to be transformed into sparse matrix\n",
    "judge2exist_bigram_corpus = \\\n",
    "    gensim.matutils.Sparse2Corpus(judge2exist_bigram_matrix)\n",
    "judge2count_bigram_corpus = \\\n",
    "    gensim.matutils.Sparse2Corpus(judge2count_bigram_matrix)"
   ]
  },
  {
   "cell_type": "code",
   "execution_count": 17,
   "metadata": {
    "collapsed": true
   },
   "outputs": [],
   "source": [
    "# Store all result\n",
    "corpora.MmCorpus.serialize('rawdata/judge2count_bigram_corpus.mm', judge2count_bigram_corpus)\n",
    "corpora.MmCorpus.serialize('rawdata/judge2exist_bigram_corpus.mm', judge2exist_bigram_corpus)\n",
    "judge_bigram_dict.save('rawdata/judge_bigram_dict.dict')"
   ]
  },
  {
   "cell_type": "markdown",
   "metadata": {},
   "source": [
    "### part 2 : Reduce dimension & LDA"
   ]
  },
  {
   "cell_type": "code",
   "execution_count": 23,
   "metadata": {
    "collapsed": false
   },
   "outputs": [
    {
     "name": "stdout",
     "output_type": "stream",
     "text": [
      "[(81, 0.14379461029531085), (135, 0.24702670149793934), (224, 0.31341971548801578), (293, 0.18005769888600365), (314, 0.32298572486773902), (355, 0.17591398613276835), (396, 0.16863834016685586), (471, 0.20723680930709634), (528, 0.19212069331379419), (532, 0.20677254408067597), (547, 0.14846813320564564), (669, 0.18816902079619865), (716, 0.1372423967148651), (744, 0.14209453940340666), (832, 0.35717832548497586), (867, 0.088009951321526475), (921, 0.17440149164067467), (947, 0.12318291796659869), (1017, 0.12154964579983747), (1050, 0.19126321248965694), (1074, 0.15573675689583219), (1075, 0.11803053175591176), (1091, 0.21364711057572031), (1131, 0.13426834884096939), (1234, 0.16072621997209127), (1248, 0.18449835492756089), (1312, 0.10419237715512651)]\n"
     ]
    }
   ],
   "source": [
    "## Transform corpus into tfidf sequence\n",
    "tfidf = models.TfidfModel(judge2count_bigram_corpus)\n",
    "judge2count_bigram_corpus_tfidf = tfidf[judge2count_bigram_corpus]\n",
    "\n",
    "for i, j in enumerate(judge2count_bigram_corpus_tfidf):\n",
    "    if i < 1:\n",
    "        print(j)"
   ]
  },
  {
   "cell_type": "code",
   "execution_count": 24,
   "metadata": {
    "collapsed": true
   },
   "outputs": [],
   "source": [
    "k = 50 # topic num, intutivly , it can be set as classes num of judge cases \n",
    "# LSI transformation \n",
    "lsi = models.LsiModel(judge2count_bigram_corpus_tfidf, id2word=judge_bigram_dict, num_topics=k) \n",
    "judge2count_bigram_corpus_lsi = lsi[judge2count_bigram_corpus_tfidf]"
   ]
  },
  {
   "cell_type": "code",
   "execution_count": 32,
   "metadata": {
    "collapsed": false
   },
   "outputs": [
    {
     "name": "stdout",
     "output_type": "stream",
     "text": [
      "[(0, 0.22702029167858667), (1, 0.11576988922128108), (2, -0.12930069061453034), (3, -0.085109293139851785), (4, -0.0037917176948431665), (5, -0.017327180982774061), (6, -0.14393420748913677), (7, -0.12201518922598323), (8, -0.0063732500092567156), (9, -0.044250939409882888), (10, 0.072021048957832234), (11, -0.025669667193074154), (12, -0.040092587036761912), (13, 0.12781107061898239), (14, -0.0027268898335965136), (15, 0.036441291710643392), (16, -0.00018198259555313179), (17, 0.043685747382247619), (18, 0.01795400993104581), (19, 0.10392265500653677), (20, 0.014197782756762254), (21, -0.0084204061106709083), (22, -0.04093197912835974), (23, 0.035751124923679052), (24, 0.03493244883871429), (25, -0.014040355865578233), (26, 0.0020649800369672922), (27, 0.0203647931276521), (28, -0.026537192851468799), (29, -0.01485693018573068), (30, -0.03698325553836139), (31, -0.010912860194156106), (32, 0.047440556270716021), (33, 0.0090172906548815247), (34, -0.015265682288138765), (35, 0.016750742062471846), (36, -0.062290544272609182), (37, 0.040568665529422017), (38, 0.012693054614672), (39, -0.050694277718563323), (40, 0.0051525696397726004), (41, -0.013342412235345371), (42, 0.013275692563913815), (43, -0.021023002139120443), (44, 0.097365735658882568), (45, -0.031885882318242353), (46, -0.076617477486422961), (47, -0.0065346567519571509), (48, 0.060982615408966941), (49, 0.0072164697020174855)]\n",
      "512\n"
     ]
    }
   ],
   "source": [
    "printitem(judge2count_bigram_corpus_lsi)\n",
    "# need multi test ,so no need to save (just save the best)\n",
    "# lsi.save('rawdata/judge2count_bigram_lsi.lsi')  "
   ]
  },
  {
   "cell_type": "code",
   "execution_count": 33,
   "metadata": {
    "collapsed": true
   },
   "outputs": [],
   "source": [
    "# Random Projections, RP similiar to LDA\n",
    "rp = models.RpModel(judge2count_bigram_corpus_tfidf, id2word= judge_bigram_dict, num_topics=k)\n",
    "judge2count_bigram_corpus_RP = rp[judge2count_bigram_corpus_tfidf]"
   ]
  },
  {
   "cell_type": "code",
   "execution_count": 34,
   "metadata": {
    "collapsed": false
   },
   "outputs": [
    {
     "name": "stdout",
     "output_type": "stream",
     "text": [
      "[(0, 0.22702029167858667), (1, 0.11576988922128108), (2, -0.12930069061453034), (3, -0.085109293139851785), (4, -0.0037917176948431665), (5, -0.017327180982774061), (6, -0.14393420748913677), (7, -0.12201518922598323), (8, -0.0063732500092567156), (9, -0.044250939409882888), (10, 0.072021048957832234), (11, -0.025669667193074154), (12, -0.040092587036761912), (13, 0.12781107061898239), (14, -0.0027268898335965136), (15, 0.036441291710643392), (16, -0.00018198259555313179), (17, 0.043685747382247619), (18, 0.01795400993104581), (19, 0.10392265500653677), (20, 0.014197782756762254), (21, -0.0084204061106709083), (22, -0.04093197912835974), (23, 0.035751124923679052), (24, 0.03493244883871429), (25, -0.014040355865578233), (26, 0.0020649800369672922), (27, 0.0203647931276521), (28, -0.026537192851468799), (29, -0.01485693018573068), (30, -0.03698325553836139), (31, -0.010912860194156106), (32, 0.047440556270716021), (33, 0.0090172906548815247), (34, -0.015265682288138765), (35, 0.016750742062471846), (36, -0.062290544272609182), (37, 0.040568665529422017), (38, 0.012693054614672), (39, -0.050694277718563323), (40, 0.0051525696397726004), (41, -0.013342412235345371), (42, 0.013275692563913815), (43, -0.021023002139120443), (44, 0.097365735658882568), (45, -0.031885882318242353), (46, -0.076617477486422961), (47, -0.0065346567519571509), (48, 0.060982615408966941), (49, 0.0072164697020174855)]\n"
     ]
    }
   ],
   "source": [
    "printitem(judge2count_bigram_corpus_RP)"
   ]
  },
  {
   "cell_type": "code",
   "execution_count": null,
   "metadata": {
    "collapsed": true
   },
   "outputs": [],
   "source": [
    "# LDA topic model Very slow, not cross validation\n",
    "LDA = models.LdaModel(judge2count_bigram_corpus_tfidf, id2word=judge_bigram_dict, num_topics=k)\n",
    "judge2count_bigram_corpus_lda = LDA[judge2count_bigram_corpus_tfidf]"
   ]
  },
  {
   "cell_type": "code",
   "execution_count": null,
   "metadata": {
    "collapsed": true
   },
   "outputs": [],
   "source": [
    "printitem(judge2count_bigram_corpus_lda)"
   ]
  },
  {
   "cell_type": "markdown",
   "metadata": {},
   "source": [
    "### part 3. Train with new features"
   ]
  },
  {
   "cell_type": "markdown",
   "metadata": {},
   "source": [
    "### Aux function"
   ]
  },
  {
   "cell_type": "code",
   "execution_count": 30,
   "metadata": {
    "collapsed": false
   },
   "outputs": [],
   "source": [
    "def printitem(corpus,num = 1):\n",
    "    for i, j in enumerate(judge2count_bigram_corpus_lsi):\n",
    "        if i < num:\n",
    "            print(j)\n",
    "            break "
   ]
  },
  {
   "cell_type": "code",
   "execution_count": null,
   "metadata": {
    "collapsed": true
   },
   "outputs": [],
   "source": []
  }
 ],
 "metadata": {
  "kernelspec": {
   "display_name": "Python 3",
   "language": "python",
   "name": "python3"
  },
  "language_info": {
   "codemirror_mode": {
    "name": "ipython",
    "version": 3
   },
   "file_extension": ".py",
   "mimetype": "text/x-python",
   "name": "python",
   "nbconvert_exporter": "python",
   "pygments_lexer": "ipython3",
   "version": "3.5.2"
  }
 },
 "nbformat": 4,
 "nbformat_minor": 0
}
