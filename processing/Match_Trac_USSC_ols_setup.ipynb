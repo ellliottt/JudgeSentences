{
 "cells": [
  {
   "cell_type": "code",
   "execution_count": 7,
   "metadata": {
    "collapsed": true
   },
   "outputs": [],
   "source": [
    "import pickle \n",
    "import pprint as pp\n",
    "import pandas as pd\n",
    "import numpy as np\n",
    "from sklearn import linear_model\n",
    "from sklearn import svm\n",
    "import matplotlib.pyplot as plt"
   ]
  },
  {
   "cell_type": "code",
   "execution_count": 1,
   "metadata": {
    "collapsed": true
   },
   "outputs": [],
   "source": [
    "#This program loads the train and test data sets and runs the baseline OLS regression and runs out of sample testing"
   ]
  },
  {
   "cell_type": "code",
   "execution_count": 8,
   "metadata": {
    "collapsed": false
   },
   "outputs": [],
   "source": [
    "#Load Test and Train Data\n",
    "train = pd.read_csv('Trac_USSC_train.csv', index_col = 0)\n",
    "test = pd.read_csv('Trac_USSC_test.csv', index_col = 0)"
   ]
  },
  {
   "cell_type": "code",
   "execution_count": 10,
   "metadata": {
    "collapsed": false
   },
   "outputs": [],
   "source": [
    "X_train = train.drop(['songername', 'demean_logprisonsentmonths', 'year29', 'judge_religion3', 'judge_rating3', 'judge_race1', 'judge_party1'], axis = 1)\n",
    "X_train['intercept'] = 1\n",
    "Y_train = train['demean_logprisonsentmonths']\n",
    "X_test = test.drop(['songername', 'demean_logprisonsentmonths', 'year29', 'judge_religion3', 'judge_rating3', 'judge_race1', 'judge_party1'], axis = 1)\n",
    "X_test['intercept'] = 1\n",
    "Y_test = test['demean_logprisonsentmonths']"
   ]
  },
  {
   "cell_type": "code",
   "execution_count": 11,
   "metadata": {
    "collapsed": false
   },
   "outputs": [
    {
     "name": "stdout",
     "output_type": "stream",
     "text": [
      "Coefficients: \n",
      " [  1.22476706e+00   3.28223754e-02   1.52923456e-04   1.68635843e-01\n",
      "  -1.01389922e-01  -1.16881813e+00   4.24083295e-02  -5.62144630e-01\n",
      "  -4.38026773e-02  -9.23615771e-01  -6.03699229e-01  -3.23794379e-01\n",
      "  -3.83810866e-01  -4.57313820e-01  -3.30658831e-01  -3.18062090e-01\n",
      "  -3.22393484e-01  -4.02811112e-01  -3.36824230e-01  -2.65114841e-01\n",
      "  -1.96483448e-01  -2.05920090e-01  -1.91206468e-01  -1.28611799e-01\n",
      "  -7.52369396e-02  -3.77046048e-02  -1.01847642e-02  -1.28036714e-02\n",
      "   6.48835831e-04   9.78425243e-03  -3.33955432e-03   3.69770045e-03\n",
      "   9.73999833e-03   3.11619244e-02   4.22201828e-02   4.30390224e-02\n",
      "   4.66044967e-02  -9.20761027e-02  -1.68375826e-01  -1.57387256e-01\n",
      "  -1.01648078e-01  -8.00051189e-02  -1.50988918e-01   3.55220497e-02\n",
      "  -2.29928667e-02  -6.59325831e-02  -1.02916093e-01  -9.49768237e-02\n",
      "  -1.08847345e-01  -3.02541497e-01   2.90561272e-02  -3.26412946e-01\n",
      "  -9.73589990e-02   7.64892057e-02   3.79248517e-01  -3.01219617e-01\n",
      "  -2.51032017e-01   9.49959126e-02  -3.09482461e-01   1.47491167e-01\n",
      "  -4.01756122e-02   2.98767097e-01  -1.32363977e-01  -2.95204664e-01\n",
      "  -1.99184068e-01   2.26936682e-01  -1.27791801e-01   3.85036987e-01\n",
      "   1.50513963e-01  -1.02098804e-02   1.26939230e-01  -9.65257155e-02\n",
      "  -8.97754341e-02  -4.71839581e-03  -1.35003343e-01  -1.68004101e-02\n",
      "  -6.21146143e-03   5.21441406e-01  -8.83775393e-03  -3.38515020e-03\n",
      "   2.17815042e-01]\n",
      "Mean squared error: 4.44\n"
     ]
    },
    {
     "data": {
      "text/plain": [
       "<bound method BaseEstimator.get_params of LinearRegression(copy_X=True, fit_intercept=False, n_jobs=1, normalize=False)>"
      ]
     },
     "execution_count": 11,
     "metadata": {},
     "output_type": "execute_result"
    }
   ],
   "source": [
    "regr = linear_model.LinearRegression(fit_intercept = False)\n",
    "regr.fit(X_train, Y_train)\n",
    "print('Coefficients: \\n', regr.coef_)\n",
    "print(\"Mean squared error: %.2f\"\n",
    "      % np.mean((regr.predict(X_test) - Y_test) ** 2))\n",
    "regr.get_params"
   ]
  },
  {
   "cell_type": "code",
   "execution_count": 16,
   "metadata": {
    "collapsed": false
   },
   "outputs": [
    {
     "data": {
      "image/png": "[encoded data removed]",
      "text/plain": [
       "<matplotlib.figure.Figure at 0x13db92198>"
      ]
     },
     "metadata": {},
     "output_type": "display_data"
    }
   ],
   "source": [
    "plt.scatter(Y_test, regr.predict(X_test), color='blue')\n",
    "plt.show()"
   ]
  }
 ],
 "metadata": {
  "kernelspec": {
   "display_name": "Python 3",
   "language": "python",
   "name": "python3"
  },
  "language_info": {
   "codemirror_mode": {
    "name": "ipython",
    "version": 3
   },
   "file_extension": ".py",
   "mimetype": "text/x-python",
   "name": "python",
   "nbconvert_exporter": "python",
   "pygments_lexer": "ipython3",
   "version": "3.6.0"
  }
 },
 "nbformat": 4,
 "nbformat_minor": 2
}
